{
 "cells": [
  {
   "cell_type": "markdown",
   "metadata": {},
   "source": [
    "FIle.csv\n",
    "File \n",
    "    method\n",
    "    method\n",
    "    \n",
    "    \n",
    "Readme\n",
    "\n",
    "1) utils -> methode pour recuper tt les fichiers.py\n",
    "2) utils -> toutes les noms de functions\n",
    "3) main :\n",
    "    loop \n",
    "        File\n",
    "         method"
   ]
  },
  {
   "cell_type": "code",
   "execution_count": 1,
   "metadata": {},
   "outputs": [
    {
     "ename": "SyntaxError",
     "evalue": "invalid syntax (3473095436.py, line 1)",
     "output_type": "error",
     "traceback": [
      "\u001b[1;36m  Cell \u001b[1;32mIn[1], line 1\u001b[1;36m\u001b[0m\n\u001b[1;33m    pip install openai\u001b[0m\n\u001b[1;37m        ^\u001b[0m\n\u001b[1;31mSyntaxError\u001b[0m\u001b[1;31m:\u001b[0m invalid syntax\n"
     ]
    }
   ],
   "source": [
    "pip install openai\n",
    "pip install ast\n",
    "pip install astor"
   ]
  },
  {
   "cell_type": "code",
   "execution_count": null,
   "metadata": {},
   "outputs": [],
   "source": [
    "import os\n",
    "import ast\n",
    "\n",
    "def list_python_files(path):\n",
    "    \"\"\"\n",
    "    List all Python files in the given directory path.\n",
    "    \"\"\"\n",
    "    python_files = []\n",
    "    for root, dirs, files in os.walk(path):\n",
    "        for file in files:\n",
    "            if file.endswith(\".py\"):\n",
    "                python_files.append(os.path.join(root, file))\n",
    "    return python_files\n",
    "\n",
    "\n",
    "def get_functions_definitions(file_path):\n",
    "    with open(file_path, 'r') as file:\n",
    "        source_code = file.read()\n",
    "        tree = ast.parse(source_code)\n",
    "        function_definitions = []\n",
    "\n",
    "        for node in ast.walk(tree):\n",
    "            if isinstance(node, ast.FunctionDef):\n",
    "                function_code = ast.get_source_segment(source_code, node)\n",
    "                function_definitions.append(function_code)\n",
    "\n",
    "        return function_definitions\n",
    "\n",
    "\n"
   ]
  },
  {
   "cell_type": "code",
   "execution_count": null,
   "metadata": {},
   "outputs": [],
   "source": [
    "list_python_files(\"workshop-docs-agent\")\n"
   ]
  },
  {
   "cell_type": "code",
   "execution_count": null,
   "metadata": {},
   "outputs": [],
   "source": [
    "mainframe = get_functions_definitions(\"workshop-docs-agent/resources/IIRA/gui/mainframe.py\")\n",
    "print(mainframe)"
   ]
  },
  {
   "cell_type": "code",
   "execution_count": 6,
   "metadata": {},
   "outputs": [],
   "source": [
    "import ast\n",
    "\n",
    "def inject_docstring(docstring, filename, function_name):\n",
    "    with open(filename, 'r') as file:\n",
    "        source = file.read()\n",
    "\n",
    "    tree = ast.parse(source)\n",
    "\n",
    "    def visit_FunctionDef(self, node):\n",
    "        if node.name == self.function_name and not ast.get_docstring(node):\n",
    "            # Split the docstring into lines and indent each line\n",
    "            indented_lines = [(self.indent + line) if line else '' for line in self.docstring.splitlines()]\n",
    "            # Join the lines back into a single string\n",
    "            indented_docstring = '\\n'.join(indented_lines)\n",
    "            # Create a new AST node for the docstring with correct indentation\n",
    "            docstring_node = ast.Expr(value=ast.Constant(value=indented_docstring, kind=None))\n",
    "            # Insert the docstring at the beginning of the function body\n",
    "            node.body.insert(0, docstring_node)\n",
    "        return node\n",
    "\n",
    "    for node in ast.walk(tree):\n",
    "        if isinstance(node, ast.FunctionDef):\n",
    "            visit_FunctionDef(node)\n",
    "\n",
    "    modified_source = ast.unparse(tree)\n",
    "\n",
    "    with open(filename, 'w') as file:\n",
    "        file.write(modified_source)\n",
    "    #how can i fix indentation    \n",
    "    \n",
    "docstring = ''' \n",
    "    This function does something.\n",
    "\n",
    "    Parameters:\n",
    "    arg1 (type): Description of arg1\n",
    "    arg2 (type): Description of arg2\n",
    "\n",
    "    Returns:\n",
    "    type: Description of return value\n",
    "\n",
    "'''\n",
    "inject_docstring(docstring, 'testingfile.py', 'update_frame')  \n"
   ]
  },
  {
   "cell_type": "code",
   "execution_count": 19,
   "metadata": {},
   "outputs": [],
   "source": [
    "import ast  \n",
    "\n",
    "class DocstringInjector(ast.NodeTransformer):\n",
    "    def __init__(self, function_name, docstring, indent='    '):  # Default indent is 4 spaces\n",
    "        self.function_name = function_name\n",
    "        self.docstring = docstring\n",
    "        self.indent = indent\n",
    "\n",
    "    def visit_ClassDef(self, node: ast.ClassDef):  \n",
    "        if node.name == self.class_name and not ast.get_docstring(node):  \n",
    "            # Split the docstring into lines and indent each line  \n",
    "            indented_lines = [(self.indent + line) if line else '' for line in self.docstring.splitlines()]  \n",
    "            # Join the lines back into a single string  \n",
    "            indented_docstring = '\\n'.join(indented_lines)  \n",
    "            # Create a new AST node for the docstring with correct indentation  \n",
    "            docstring_node = ast.Expr(value=ast.Constant(value=indented_docstring, kind=None))  \n",
    "            # Insert the docstring at the beginning of the class body  \n",
    "            node.body.insert(0, docstring_node)  \n",
    "        return node      \n",
    "    def visit_FunctionDef(self, node: ast.FunctionDef):\n",
    "        if node.name == self.function_name and not ast.get_docstring(node):\n",
    "            # Split the docstring into lines and indent each line\n",
    "            indented_lines = [(self.indent + line) if line else '' for line in self.docstring.splitlines()]\n",
    "            # Join the lines back into a single string\n",
    "            indented_docstring = '\\n'.join(indented_lines)\n",
    "            # Create a new AST node for the docstring with correct indentation\n",
    "            docstring_node = ast.Expr(value=ast.Constant(value=indented_docstring, kind=None))\n",
    "            # Insert the docstring at the beginning of the function body\n",
    "            node.body.insert(0, docstring_node)\n",
    "        return node\n",
    "    \n",
    "def inject_docstring(docstring, filename, function_name):  \n",
    "    with open(filename, 'r') as file:  \n",
    "        source = file.read()  \n",
    "  \n",
    "    tree = ast.parse(source)  \n",
    "\n",
    "    injector = DocstringInjector(function_name,docstring)\n",
    "    modified_tree = injector.visit(tree)  \n",
    "  \n",
    "    modified_source = ast.unparse(modified_tree)  \n",
    "  \n",
    "    with open(filename, 'w') as file:  \n",
    "        file.write(modified_source)  \n",
    "\n",
    "docstring = ''' This function does something.\n",
    "\n",
    "        Parameters:\n",
    "        arg1 (type): Description of arg1\n",
    "        arg2 (type): Description of arg2\n",
    "\n",
    "        Returns:\n",
    "        type: Description of return value\n",
    "\n",
    "    '''  \n",
    "inject_docstring(docstring, 'testingfile.py', 'update_frame')  \n"
   ]
  }
 ],
 "metadata": {
  "kernelspec": {
   "display_name": "Python 3",
   "language": "python",
   "name": "python3"
  },
  "language_info": {
   "codemirror_mode": {
    "name": "ipython",
    "version": 3
   },
   "file_extension": ".py",
   "mimetype": "text/x-python",
   "name": "python",
   "nbconvert_exporter": "python",
   "pygments_lexer": "ipython3",
   "version": "3.11.0"
  }
 },
 "nbformat": 4,
 "nbformat_minor": 2
}
