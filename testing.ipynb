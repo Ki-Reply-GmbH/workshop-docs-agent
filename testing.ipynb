{
 "cells": [
  {
   "cell_type": "markdown",
   "metadata": {},
   "source": [
    "FIle.csv\n",
    "File \n",
    "    method\n",
    "    method\n",
    "    \n",
    "    \n",
    "Readme\n",
    "\n",
    "1) utils -> methode pour recuper tt les fichiers.py\n",
    "2) utils -> toutes les noms de functions\n",
    "3) main :\n",
    "    loop \n",
    "        File\n",
    "         method"
   ]
  },
  {
   "cell_type": "code",
   "execution_count": null,
   "metadata": {},
   "outputs": [],
   "source": [
    "pip install openai\n",
    "pip install ast"
   ]
  },
  {
   "cell_type": "code",
   "execution_count": null,
   "metadata": {},
   "outputs": [],
   "source": [
    "import os\n",
    "import ast\n",
    "\n",
    "def list_python_files(path):\n",
    "    \"\"\"\n",
    "    List all Python files in the given directory path.\n",
    "    \"\"\"\n",
    "    python_files = []\n",
    "    for root, dirs, files in os.walk(path):\n",
    "        for file in files:\n",
    "            if file.endswith(\".py\"):\n",
    "                python_files.append(os.path.join(root, file))\n",
    "    return python_files\n",
    "\n",
    "\n",
    "def get_functions_definitions(file_path):\n",
    "    with open(file_path, 'r') as file:\n",
    "        source_code = file.read()\n",
    "        tree = ast.parse(source_code)\n",
    "        function_definitions = []\n",
    "\n",
    "        for node in ast.walk(tree):\n",
    "            if isinstance(node, ast.FunctionDef):\n",
    "                function_code = ast.get_source_segment(source_code, node)\n",
    "                function_definitions.append(function_code)\n",
    "\n",
    "        return function_definitions\n",
    "\n",
    "\n"
   ]
  },
  {
   "cell_type": "code",
   "execution_count": null,
   "metadata": {},
   "outputs": [],
   "source": [
    "list_python_files(\"workshop-docs-agent\")\n"
   ]
  },
  {
   "cell_type": "code",
   "execution_count": null,
   "metadata": {},
   "outputs": [],
   "source": [
    "mainframe = get_functions_definitions(\"workshop-docs-agent/resources/IIRA/gui/mainframe.py\")\n",
    "print(mainframe)"
   ]
  }
 ],
 "metadata": {
  "kernelspec": {
   "display_name": "Python 3",
   "language": "python",
   "name": "python3"
  },
  "language_info": {
   "codemirror_mode": {
    "name": "ipython",
    "version": 3
   },
   "file_extension": ".py",
   "mimetype": "text/x-python",
   "name": "python",
   "nbconvert_exporter": "python",
   "pygments_lexer": "ipython3",
   "version": "3.11.0"
  }
 },
 "nbformat": 4,
 "nbformat_minor": 2
}
